{
 "cells": [
  {
   "cell_type": "code",
   "execution_count": null,
   "metadata": {
    "application/vnd.databricks.v1+cell": {
     "cellMetadata": {
      "byteLimit": 2048000,
      "rowLimit": 10000
     },
     "inputWidgets": {},
     "nuid": "2b43c7ec-320e-4f7b-a5e3-8e25d93643fd",
     "showTitle": false,
     "tableResultSettingsMap": {},
     "title": ""
    }
   },
   "outputs": [],
   "source": [
    "import pandas"
   ]
  },
  {
   "cell_type": "code",
   "execution_count": null,
   "metadata": {
    "application/vnd.databricks.v1+cell": {
     "cellMetadata": {
      "byteLimit": 2048000,
      "rowLimit": 10000
     },
     "inputWidgets": {},
     "nuid": "6ca4f006-1c8e-427e-a11b-8a231bb2c214",
     "showTitle": false,
     "tableResultSettingsMap": {},
     "title": ""
    }
   },
   "outputs": [],
   "source": [
    "source_json_file_pandas_df = pandas.read_json(source_json_filepath)"
   ]
  },
  {
   "cell_type": "code",
   "execution_count": null,
   "metadata": {
    "application/vnd.databricks.v1+cell": {
     "cellMetadata": {
      "byteLimit": 2048000,
      "rowLimit": 10000
     },
     "inputWidgets": {},
     "nuid": "9b1c2c17-7378-4d29-9055-22dbb32c9d08",
     "showTitle": false,
     "tableResultSettingsMap": {},
     "title": ""
    }
   },
   "outputs": [],
   "source": [
    "from pyspark.sql.functions import *\n",
    "source_json_file_sparks_df = spark.createDataFrame(source_json_file_pandas_df)"
   ]
  },
  {
   "cell_type": "code",
   "execution_count": null,
   "metadata": {
    "application/vnd.databricks.v1+cell": {
     "cellMetadata": {
      "byteLimit": 2048000,
      "rowLimit": 10000
     },
     "inputWidgets": {},
     "nuid": "55cfd9eb-153f-4f11-bb9f-91459ad65cc2",
     "showTitle": false,
     "tableResultSettingsMap": {},
     "title": ""
    }
   },
   "outputs": [
    {
     "name": "stdout",
     "output_type": "stream",
     "text": [
      "DataFrame[date: timestamp, localName: string, name: string, countryCode: string, fixed: boolean, global: boolean, counties: array<string>, launchYear: double, types: array<string>]\n"
     ]
    },
    {
     "data": {
      "text/html": [
       "<style scoped>\n",
       "  .table-result-container {\n",
       "    max-height: 300px;\n",
       "    overflow: auto;\n",
       "  }\n",
       "  table, th, td {\n",
       "    border: 1px solid black;\n",
       "    border-collapse: collapse;\n",
       "  }\n",
       "  th, td {\n",
       "    padding: 5px;\n",
       "  }\n",
       "  th {\n",
       "    text-align: left;\n",
       "  }\n",
       "</style><div class='table-result-container'><table class='table-result'><thead style='background-color: white'><tr><th>date</th><th>localName</th><th>name</th><th>countryCode</th><th>fixed</th><th>global</th><th>counties</th><th>launchYear</th><th>types</th></tr></thead><tbody><tr><td>2025-01-01T00:00:00Z</td><td>New Year's Day</td><td>New Year's Day</td><td>US</td><td>false</td><td>true</td><td>null</td><td>null</td><td>List(Public)</td></tr><tr><td>2025-01-20T00:00:00Z</td><td>Martin Luther King, Jr. Day</td><td>Martin Luther King, Jr. Day</td><td>US</td><td>false</td><td>true</td><td>null</td><td>null</td><td>List(Public)</td></tr><tr><td>2025-02-12T00:00:00Z</td><td>Lincoln's Birthday</td><td>Lincoln's Birthday</td><td>US</td><td>false</td><td>false</td><td>List(US-CA, US-CT, US-IL, US-IN, US-KY, US-MI, US-NY, US-MO, US-OH)</td><td>null</td><td>List(Observance)</td></tr><tr><td>2025-02-17T00:00:00Z</td><td>Washington's Birthday</td><td>Presidents Day</td><td>US</td><td>false</td><td>true</td><td>null</td><td>null</td><td>List(Public)</td></tr><tr><td>2025-04-18T00:00:00Z</td><td>Good Friday</td><td>Good Friday</td><td>US</td><td>false</td><td>false</td><td>List(US-CT, US-DE, US-HI, US-IN, US-KY, US-LA, US-NC, US-ND, US-NJ, US-TN)</td><td>null</td><td>List(Public)</td></tr><tr><td>2025-04-18T00:00:00Z</td><td>Good Friday</td><td>Good Friday</td><td>US</td><td>false</td><td>false</td><td>List(US-TX)</td><td>null</td><td>List(Optional)</td></tr><tr><td>2025-05-08T00:00:00Z</td><td>Truman Day</td><td>Truman Day</td><td>US</td><td>false</td><td>false</td><td>List(US-MO)</td><td>null</td><td>List(School, Authorities)</td></tr><tr><td>2025-05-26T00:00:00Z</td><td>Memorial Day</td><td>Memorial Day</td><td>US</td><td>false</td><td>true</td><td>null</td><td>null</td><td>List(Public)</td></tr><tr><td>2025-06-19T00:00:00Z</td><td>Juneteenth National Independence Day</td><td>Juneteenth National Independence Day</td><td>US</td><td>false</td><td>true</td><td>null</td><td>null</td><td>List(Public)</td></tr><tr><td>2025-07-04T00:00:00Z</td><td>Independence Day</td><td>Independence Day</td><td>US</td><td>false</td><td>true</td><td>null</td><td>null</td><td>List(Public)</td></tr><tr><td>2025-09-01T00:00:00Z</td><td>Labour Day</td><td>Labor Day</td><td>US</td><td>false</td><td>true</td><td>null</td><td>null</td><td>List(Public)</td></tr><tr><td>2025-10-13T00:00:00Z</td><td>Columbus Day</td><td>Columbus Day</td><td>US</td><td>false</td><td>false</td><td>List(US-AL, US-AZ, US-CO, US-CT, US-GA, US-ID, US-IL, US-IN, US-IA, US-KS, US-KY, US-LA, US-ME, US-MD, US-MA, US-MS, US-MO, US-MT, US-NE, US-NH, US-NJ, US-NM, US-NY, US-NC, US-OH, US-OK, US-PA, US-RI, US-SC, US-TN, US-UT, US-VA, US-WV)</td><td>null</td><td>List(Public)</td></tr><tr><td>2025-10-13T00:00:00Z</td><td>Indigenous Peoples' Day</td><td>Indigenous Peoples' Day</td><td>US</td><td>false</td><td>false</td><td>List(US-AK, US-AL, US-CA, US-HI, US-IA, US-LA, US-ME, US-MI, US-MN, US-NC, US-NE, US-NM, US-OK, US-OR, US-SD, US-TX, US-VA, US-VT, US-WI)</td><td>null</td><td>List(Public)</td></tr><tr><td>2025-11-11T00:00:00Z</td><td>Veterans Day</td><td>Veterans Day</td><td>US</td><td>false</td><td>true</td><td>null</td><td>null</td><td>List(Public)</td></tr><tr><td>2025-11-27T00:00:00Z</td><td>Thanksgiving Day</td><td>Thanksgiving Day</td><td>US</td><td>false</td><td>true</td><td>null</td><td>null</td><td>List(Public)</td></tr><tr><td>2025-12-25T00:00:00Z</td><td>Christmas Day</td><td>Christmas Day</td><td>US</td><td>false</td><td>true</td><td>null</td><td>null</td><td>List(Public)</td></tr></tbody></table></div>"
      ]
     },
     "metadata": {
      "application/vnd.databricks.v1+output": {
       "addedWidgets": {},
       "aggData": [],
       "aggError": "",
       "aggOverflow": false,
       "aggSchema": [],
       "aggSeriesLimitReached": false,
       "aggType": "",
       "arguments": {},
       "columnCustomDisplayInfos": {},
       "data": [
        [
         "2025-01-01T00:00:00Z",
         "New Year's Day",
         "New Year's Day",
         "US",
         false,
         true,
         null,
         null,
         [
          "Public"
         ]
        ],
        [
         "2025-01-20T00:00:00Z",
         "Martin Luther King, Jr. Day",
         "Martin Luther King, Jr. Day",
         "US",
         false,
         true,
         null,
         null,
         [
          "Public"
         ]
        ],
        [
         "2025-02-12T00:00:00Z",
         "Lincoln's Birthday",
         "Lincoln's Birthday",
         "US",
         false,
         false,
         [
          "US-CA",
          "US-CT",
          "US-IL",
          "US-IN",
          "US-KY",
          "US-MI",
          "US-NY",
          "US-MO",
          "US-OH"
         ],
         null,
         [
          "Observance"
         ]
        ],
        [
         "2025-02-17T00:00:00Z",
         "Washington's Birthday",
         "Presidents Day",
         "US",
         false,
         true,
         null,
         null,
         [
          "Public"
         ]
        ],
        [
         "2025-04-18T00:00:00Z",
         "Good Friday",
         "Good Friday",
         "US",
         false,
         false,
         [
          "US-CT",
          "US-DE",
          "US-HI",
          "US-IN",
          "US-KY",
          "US-LA",
          "US-NC",
          "US-ND",
          "US-NJ",
          "US-TN"
         ],
         null,
         [
          "Public"
         ]
        ],
        [
         "2025-04-18T00:00:00Z",
         "Good Friday",
         "Good Friday",
         "US",
         false,
         false,
         [
          "US-TX"
         ],
         null,
         [
          "Optional"
         ]
        ],
        [
         "2025-05-08T00:00:00Z",
         "Truman Day",
         "Truman Day",
         "US",
         false,
         false,
         [
          "US-MO"
         ],
         null,
         [
          "School",
          "Authorities"
         ]
        ],
        [
         "2025-05-26T00:00:00Z",
         "Memorial Day",
         "Memorial Day",
         "US",
         false,
         true,
         null,
         null,
         [
          "Public"
         ]
        ],
        [
         "2025-06-19T00:00:00Z",
         "Juneteenth National Independence Day",
         "Juneteenth National Independence Day",
         "US",
         false,
         true,
         null,
         null,
         [
          "Public"
         ]
        ],
        [
         "2025-07-04T00:00:00Z",
         "Independence Day",
         "Independence Day",
         "US",
         false,
         true,
         null,
         null,
         [
          "Public"
         ]
        ],
        [
         "2025-09-01T00:00:00Z",
         "Labour Day",
         "Labor Day",
         "US",
         false,
         true,
         null,
         null,
         [
          "Public"
         ]
        ],
        [
         "2025-10-13T00:00:00Z",
         "Columbus Day",
         "Columbus Day",
         "US",
         false,
         false,
         [
          "US-AL",
          "US-AZ",
          "US-CO",
          "US-CT",
          "US-GA",
          "US-ID",
          "US-IL",
          "US-IN",
          "US-IA",
          "US-KS",
          "US-KY",
          "US-LA",
          "US-ME",
          "US-MD",
          "US-MA",
          "US-MS",
          "US-MO",
          "US-MT",
          "US-NE",
          "US-NH",
          "US-NJ",
          "US-NM",
          "US-NY",
          "US-NC",
          "US-OH",
          "US-OK",
          "US-PA",
          "US-RI",
          "US-SC",
          "US-TN",
          "US-UT",
          "US-VA",
          "US-WV"
         ],
         null,
         [
          "Public"
         ]
        ],
        [
         "2025-10-13T00:00:00Z",
         "Indigenous Peoples' Day",
         "Indigenous Peoples' Day",
         "US",
         false,
         false,
         [
          "US-AK",
          "US-AL",
          "US-CA",
          "US-HI",
          "US-IA",
          "US-LA",
          "US-ME",
          "US-MI",
          "US-MN",
          "US-NC",
          "US-NE",
          "US-NM",
          "US-OK",
          "US-OR",
          "US-SD",
          "US-TX",
          "US-VA",
          "US-VT",
          "US-WI"
         ],
         null,
         [
          "Public"
         ]
        ],
        [
         "2025-11-11T00:00:00Z",
         "Veterans Day",
         "Veterans Day",
         "US",
         false,
         true,
         null,
         null,
         [
          "Public"
         ]
        ],
        [
         "2025-11-27T00:00:00Z",
         "Thanksgiving Day",
         "Thanksgiving Day",
         "US",
         false,
         true,
         null,
         null,
         [
          "Public"
         ]
        ],
        [
         "2025-12-25T00:00:00Z",
         "Christmas Day",
         "Christmas Day",
         "US",
         false,
         true,
         null,
         null,
         [
          "Public"
         ]
        ]
       ],
       "datasetInfos": [],
       "dbfsResultPath": null,
       "isJsonSchema": true,
       "metadata": {},
       "overflow": false,
       "plotOptions": {
        "customPlotOptions": {},
        "displayType": "table",
        "pivotAggregation": null,
        "pivotColumns": null,
        "xColumns": null,
        "yColumns": null
       },
       "removedWidgets": [],
       "schema": [
        {
         "metadata": "{}",
         "name": "date",
         "type": "\"timestamp\""
        },
        {
         "metadata": "{}",
         "name": "localName",
         "type": "\"string\""
        },
        {
         "metadata": "{}",
         "name": "name",
         "type": "\"string\""
        },
        {
         "metadata": "{}",
         "name": "countryCode",
         "type": "\"string\""
        },
        {
         "metadata": "{}",
         "name": "fixed",
         "type": "\"boolean\""
        },
        {
         "metadata": "{}",
         "name": "global",
         "type": "\"boolean\""
        },
        {
         "metadata": "{}",
         "name": "counties",
         "type": "{\"type\":\"array\",\"elementType\":\"string\",\"containsNull\":true}"
        },
        {
         "metadata": "{}",
         "name": "launchYear",
         "type": "\"double\""
        },
        {
         "metadata": "{}",
         "name": "types",
         "type": "{\"type\":\"array\",\"elementType\":\"string\",\"containsNull\":true}"
        }
       ],
       "type": "table"
      }
     },
     "output_type": "display_data"
    }
   ],
   "source": [
    "print(source_json_file_sparks_df)\n",
    "display(source_json_file_sparks_df)"
   ]
  },
  {
   "cell_type": "code",
   "execution_count": null,
   "metadata": {
    "application/vnd.databricks.v1+cell": {
     "cellMetadata": {
      "byteLimit": 2048000,
      "rowLimit": 10000
     },
     "inputWidgets": {},
     "nuid": "232971ee-3628-4d89-b641-55c3dda11067",
     "showTitle": false,
     "tableResultSettingsMap": {},
     "title": ""
    }
   },
   "outputs": [],
   "source": [
    "from pyspark.sql.functions import col, concat_ws\n",
    "source_json_file_sparks_df = source_json_file_sparks_df.withColumn(\n",
    "    \"counties\", \n",
    "    concat_ws(\",\", col(\"counties\"))\n",
    ")\n"
   ]
  },
  {
   "cell_type": "code",
   "execution_count": null,
   "metadata": {
    "application/vnd.databricks.v1+cell": {
     "cellMetadata": {
      "byteLimit": 2048000,
      "rowLimit": 10000
     },
     "inputWidgets": {},
     "nuid": "3e63681f-ee90-4eda-8347-71cf59a1d137",
     "showTitle": false,
     "tableResultSettingsMap": {},
     "title": ""
    }
   },
   "outputs": [],
   "source": [
    "source_json_file_sparks_df.selectExpr(*[f\"cast({col} as string) as {col}\" for col in source_json_file_sparks_df.columns]).write.mode('overwrite').csv(target_csv_filepath)"
   ]
  },
  {
   "cell_type": "code",
   "execution_count": null,
   "metadata": {
    "application/vnd.databricks.v1+cell": {
     "cellMetadata": {
      "byteLimit": 2048000,
      "rowLimit": 10000
     },
     "inputWidgets": {},
     "nuid": "8893a211-f447-4e9e-908a-65635ef0235f",
     "showTitle": false,
     "tableResultSettingsMap": {},
     "title": ""
    }
   },
   "outputs": [
    {
     "name": "stdout",
     "output_type": "stream",
     "text": [
      "root\n",
      " |-- date: timestamp (nullable = true)\n",
      " |-- localName: string (nullable = true)\n",
      " |-- name: string (nullable = true)\n",
      " |-- countryCode: string (nullable = true)\n",
      " |-- fixed: boolean (nullable = true)\n",
      " |-- global: boolean (nullable = true)\n",
      " |-- counties: string (nullable = false)\n",
      " |-- launchYear: double (nullable = true)\n",
      " |-- types: array (nullable = true)\n",
      " |    |-- element: string (containsNull = true)\n",
      "\n"
     ]
    }
   ],
   "source": [
    "source_json_file_sparks_df.printSchema()"
   ]
  },
  {
   "cell_type": "code",
   "execution_count": null,
   "metadata": {
    "application/vnd.databricks.v1+cell": {
     "cellMetadata": {
      "byteLimit": 2048000,
      "rowLimit": 10000
     },
     "inputWidgets": {},
     "nuid": "8b191799-a3b4-4625-85af-4ec0ee106064",
     "showTitle": false,
     "tableResultSettingsMap": {},
     "title": ""
    }
   },
   "outputs": [
    {
     "name": "stdout",
     "output_type": "stream",
     "text": [
      "+-------------------+--------------------+--------------------+-----------+-----+------+--------------------+----------+------------+\n",
      "|               date|           localName|                name|countryCode|fixed|global|            counties|launchYear|       types|\n",
      "+-------------------+--------------------+--------------------+-----------+-----+------+--------------------+----------+------------+\n",
      "|2025-01-01 00:00:00|      New Year's Day|      New Year's Day|         US|false|  true|                    |      NULL|    [Public]|\n",
      "|2025-01-20 00:00:00|Martin Luther Kin...|Martin Luther Kin...|         US|false|  true|                    |      NULL|    [Public]|\n",
      "|2025-02-12 00:00:00|  Lincoln's Birthday|  Lincoln's Birthday|         US|false| false|US-CA,US-CT,US-IL...|      NULL|[Observance]|\n",
      "|2025-02-17 00:00:00|Washington's Birt...|      Presidents Day|         US|false|  true|                    |      NULL|    [Public]|\n",
      "|2025-04-18 00:00:00|         Good Friday|         Good Friday|         US|false| false|US-CT,US-DE,US-HI...|      NULL|    [Public]|\n",
      "+-------------------+--------------------+--------------------+-----------+-----+------+--------------------+----------+------------+\n",
      "only showing top 5 rows\n"
     ]
    }
   ],
   "source": [
    "source_json_file_sparks_df.show(5)"
   ]
  },
  {
   "cell_type": "code",
   "execution_count": null,
   "metadata": {
    "application/vnd.databricks.v1+cell": {
     "cellMetadata": {
      "byteLimit": 2048000,
      "rowLimit": 10000
     },
     "inputWidgets": {},
     "nuid": "09359b54-5fd6-4b8d-95fc-8a49023128e5",
     "showTitle": false,
     "tableResultSettingsMap": {},
     "title": ""
    }
   },
   "outputs": [],
   "source": [
    "from pyspark.sql.functions import col, to_date\n",
    "source_json_file_sparks_df = source_json_file_sparks_df.withColumn(\"date\",to_date(col(\"date\"),\"yyyy-MM-dd\"))"
   ]
  },
  {
   "cell_type": "code",
   "execution_count": null,
   "metadata": {
    "application/vnd.databricks.v1+cell": {
     "cellMetadata": {
      "byteLimit": 2048000,
      "rowLimit": 10000
     },
     "inputWidgets": {},
     "nuid": "0ac19030-c048-487f-a692-e66c6520205b",
     "showTitle": false,
     "tableResultSettingsMap": {},
     "title": ""
    }
   },
   "outputs": [
    {
     "name": "stdout",
     "output_type": "stream",
     "text": [
      "+----------+--------------------+--------------------+-----------+-----+------+--------------------+----------+------------+\n",
      "|      date|           localName|                name|countryCode|fixed|global|            counties|launchYear|       types|\n",
      "+----------+--------------------+--------------------+-----------+-----+------+--------------------+----------+------------+\n",
      "|2025-01-01|      New Year's Day|      New Year's Day|         US|false|  true|                    |      NULL|    [Public]|\n",
      "|2025-01-20|Martin Luther Kin...|Martin Luther Kin...|         US|false|  true|                    |      NULL|    [Public]|\n",
      "|2025-02-12|  Lincoln's Birthday|  Lincoln's Birthday|         US|false| false|US-CA,US-CT,US-IL...|      NULL|[Observance]|\n",
      "|2025-02-17|Washington's Birt...|      Presidents Day|         US|false|  true|                    |      NULL|    [Public]|\n",
      "|2025-04-18|         Good Friday|         Good Friday|         US|false| false|US-CT,US-DE,US-HI...|      NULL|    [Public]|\n",
      "+----------+--------------------+--------------------+-----------+-----+------+--------------------+----------+------------+\n",
      "only showing top 5 rows\n"
     ]
    }
   ],
   "source": [
    "source_json_file_sparks_df.show(5)"
   ]
  },
  {
   "cell_type": "code",
   "execution_count": null,
   "metadata": {
    "application/vnd.databricks.v1+cell": {
     "cellMetadata": {
      "byteLimit": 2048000,
      "rowLimit": 10000
     },
     "inputWidgets": {},
     "nuid": "0ecb76bf-bb1d-4bb6-b542-739f1491ea97",
     "showTitle": false,
     "tableResultSettingsMap": {},
     "title": ""
    }
   },
   "outputs": [],
   "source": [
    "from pyspark.sql.functions import month,year,col,weekday\n",
    "source_json_file_sparks_df = source_json_file_sparks_df.withColumn(\"holiday_month\",month(col(\"date\")))\n",
    "                                                                   "
   ]
  },
  {
   "cell_type": "code",
   "execution_count": null,
   "metadata": {
    "application/vnd.databricks.v1+cell": {
     "cellMetadata": {
      "byteLimit": 2048000,
      "rowLimit": 10000
     },
     "inputWidgets": {},
     "nuid": "79d906a7-293b-4a43-8eac-ce08e0c34a3e",
     "showTitle": false,
     "tableResultSettingsMap": {},
     "title": ""
    }
   },
   "outputs": [],
   "source": [
    "from pyspark.sql.functions import month,year,col,weekday\n",
    "source_json_file_sparks_df = source_json_file_sparks_df.withColumn(\"weekday\",date_format(col(\"date\"),\"EEEE\"))"
   ]
  },
  {
   "cell_type": "code",
   "execution_count": null,
   "metadata": {
    "application/vnd.databricks.v1+cell": {
     "cellMetadata": {
      "byteLimit": 2048000,
      "rowLimit": 10000
     },
     "inputWidgets": {},
     "nuid": "e4b92856-1759-415c-9364-cf66d41115e1",
     "showTitle": false,
     "tableResultSettingsMap": {
      "0": {
       "dataGridStateBlob": "{\"version\":1,\"tableState\":{\"columnPinning\":{\"left\":[\"#row_number#\"],\"right\":[]},\"columnSizing\":{},\"columnVisibility\":{}},\"settings\":{\"columns\":{}},\"syncTimestamp\":1754129189889}",
       "filterBlob": null,
       "queryPlanFiltersBlob": null,
       "tableResultIndex": 0
      }
     },
     "title": ""
    }
   },
   "outputs": [
    {
     "data": {
      "text/html": [
       "<style scoped>\n",
       "  .table-result-container {\n",
       "    max-height: 300px;\n",
       "    overflow: auto;\n",
       "  }\n",
       "  table, th, td {\n",
       "    border: 1px solid black;\n",
       "    border-collapse: collapse;\n",
       "  }\n",
       "  th, td {\n",
       "    padding: 5px;\n",
       "  }\n",
       "  th {\n",
       "    text-align: left;\n",
       "  }\n",
       "</style><div class='table-result-container'><table class='table-result'><thead style='background-color: white'><tr><th>date</th><th>localName</th><th>name</th><th>countryCode</th><th>fixed</th><th>global</th><th>counties</th><th>launchYear</th><th>types</th><th>holiday_month</th><th>weekday</th></tr></thead><tbody><tr><td>2025-01-01</td><td>New Year's Day</td><td>New Year's Day</td><td>US</td><td>false</td><td>true</td><td></td><td>null</td><td>List(Public)</td><td>1</td><td>Wednesday</td></tr><tr><td>2025-01-20</td><td>Martin Luther King, Jr. Day</td><td>Martin Luther King, Jr. Day</td><td>US</td><td>false</td><td>true</td><td></td><td>null</td><td>List(Public)</td><td>1</td><td>Monday</td></tr><tr><td>2025-02-12</td><td>Lincoln's Birthday</td><td>Lincoln's Birthday</td><td>US</td><td>false</td><td>false</td><td>US-CA,US-CT,US-IL,US-IN,US-KY,US-MI,US-NY,US-MO,US-OH</td><td>null</td><td>List(Observance)</td><td>2</td><td>Wednesday</td></tr><tr><td>2025-02-17</td><td>Washington's Birthday</td><td>Presidents Day</td><td>US</td><td>false</td><td>true</td><td></td><td>null</td><td>List(Public)</td><td>2</td><td>Monday</td></tr><tr><td>2025-04-18</td><td>Good Friday</td><td>Good Friday</td><td>US</td><td>false</td><td>false</td><td>US-CT,US-DE,US-HI,US-IN,US-KY,US-LA,US-NC,US-ND,US-NJ,US-TN</td><td>null</td><td>List(Public)</td><td>4</td><td>Friday</td></tr><tr><td>2025-04-18</td><td>Good Friday</td><td>Good Friday</td><td>US</td><td>false</td><td>false</td><td>US-TX</td><td>null</td><td>List(Optional)</td><td>4</td><td>Friday</td></tr><tr><td>2025-05-08</td><td>Truman Day</td><td>Truman Day</td><td>US</td><td>false</td><td>false</td><td>US-MO</td><td>null</td><td>List(School, Authorities)</td><td>5</td><td>Thursday</td></tr><tr><td>2025-05-26</td><td>Memorial Day</td><td>Memorial Day</td><td>US</td><td>false</td><td>true</td><td></td><td>null</td><td>List(Public)</td><td>5</td><td>Monday</td></tr><tr><td>2025-06-19</td><td>Juneteenth National Independence Day</td><td>Juneteenth National Independence Day</td><td>US</td><td>false</td><td>true</td><td></td><td>null</td><td>List(Public)</td><td>6</td><td>Thursday</td></tr><tr><td>2025-07-04</td><td>Independence Day</td><td>Independence Day</td><td>US</td><td>false</td><td>true</td><td></td><td>null</td><td>List(Public)</td><td>7</td><td>Friday</td></tr><tr><td>2025-09-01</td><td>Labour Day</td><td>Labor Day</td><td>US</td><td>false</td><td>true</td><td></td><td>null</td><td>List(Public)</td><td>9</td><td>Monday</td></tr><tr><td>2025-10-13</td><td>Columbus Day</td><td>Columbus Day</td><td>US</td><td>false</td><td>false</td><td>US-AL,US-AZ,US-CO,US-CT,US-GA,US-ID,US-IL,US-IN,US-IA,US-KS,US-KY,US-LA,US-ME,US-MD,US-MA,US-MS,US-MO,US-MT,US-NE,US-NH,US-NJ,US-NM,US-NY,US-NC,US-OH,US-OK,US-PA,US-RI,US-SC,US-TN,US-UT,US-VA,US-WV</td><td>null</td><td>List(Public)</td><td>10</td><td>Monday</td></tr><tr><td>2025-10-13</td><td>Indigenous Peoples' Day</td><td>Indigenous Peoples' Day</td><td>US</td><td>false</td><td>false</td><td>US-AK,US-AL,US-CA,US-HI,US-IA,US-LA,US-ME,US-MI,US-MN,US-NC,US-NE,US-NM,US-OK,US-OR,US-SD,US-TX,US-VA,US-VT,US-WI</td><td>null</td><td>List(Public)</td><td>10</td><td>Monday</td></tr><tr><td>2025-11-11</td><td>Veterans Day</td><td>Veterans Day</td><td>US</td><td>false</td><td>true</td><td></td><td>null</td><td>List(Public)</td><td>11</td><td>Tuesday</td></tr><tr><td>2025-11-27</td><td>Thanksgiving Day</td><td>Thanksgiving Day</td><td>US</td><td>false</td><td>true</td><td></td><td>null</td><td>List(Public)</td><td>11</td><td>Thursday</td></tr><tr><td>2025-12-25</td><td>Christmas Day</td><td>Christmas Day</td><td>US</td><td>false</td><td>true</td><td></td><td>null</td><td>List(Public)</td><td>12</td><td>Thursday</td></tr></tbody></table></div>"
      ]
     },
     "metadata": {
      "application/vnd.databricks.v1+output": {
       "addedWidgets": {},
       "aggData": [],
       "aggError": "",
       "aggOverflow": false,
       "aggSchema": [],
       "aggSeriesLimitReached": false,
       "aggType": "",
       "arguments": {},
       "columnCustomDisplayInfos": {},
       "data": [
        [
         "2025-01-01",
         "New Year's Day",
         "New Year's Day",
         "US",
         false,
         true,
         "",
         null,
         [
          "Public"
         ],
         1,
         "Wednesday"
        ],
        [
         "2025-01-20",
         "Martin Luther King, Jr. Day",
         "Martin Luther King, Jr. Day",
         "US",
         false,
         true,
         "",
         null,
         [
          "Public"
         ],
         1,
         "Monday"
        ],
        [
         "2025-02-12",
         "Lincoln's Birthday",
         "Lincoln's Birthday",
         "US",
         false,
         false,
         "US-CA,US-CT,US-IL,US-IN,US-KY,US-MI,US-NY,US-MO,US-OH",
         null,
         [
          "Observance"
         ],
         2,
         "Wednesday"
        ],
        [
         "2025-02-17",
         "Washington's Birthday",
         "Presidents Day",
         "US",
         false,
         true,
         "",
         null,
         [
          "Public"
         ],
         2,
         "Monday"
        ],
        [
         "2025-04-18",
         "Good Friday",
         "Good Friday",
         "US",
         false,
         false,
         "US-CT,US-DE,US-HI,US-IN,US-KY,US-LA,US-NC,US-ND,US-NJ,US-TN",
         null,
         [
          "Public"
         ],
         4,
         "Friday"
        ],
        [
         "2025-04-18",
         "Good Friday",
         "Good Friday",
         "US",
         false,
         false,
         "US-TX",
         null,
         [
          "Optional"
         ],
         4,
         "Friday"
        ],
        [
         "2025-05-08",
         "Truman Day",
         "Truman Day",
         "US",
         false,
         false,
         "US-MO",
         null,
         [
          "School",
          "Authorities"
         ],
         5,
         "Thursday"
        ],
        [
         "2025-05-26",
         "Memorial Day",
         "Memorial Day",
         "US",
         false,
         true,
         "",
         null,
         [
          "Public"
         ],
         5,
         "Monday"
        ],
        [
         "2025-06-19",
         "Juneteenth National Independence Day",
         "Juneteenth National Independence Day",
         "US",
         false,
         true,
         "",
         null,
         [
          "Public"
         ],
         6,
         "Thursday"
        ],
        [
         "2025-07-04",
         "Independence Day",
         "Independence Day",
         "US",
         false,
         true,
         "",
         null,
         [
          "Public"
         ],
         7,
         "Friday"
        ],
        [
         "2025-09-01",
         "Labour Day",
         "Labor Day",
         "US",
         false,
         true,
         "",
         null,
         [
          "Public"
         ],
         9,
         "Monday"
        ],
        [
         "2025-10-13",
         "Columbus Day",
         "Columbus Day",
         "US",
         false,
         false,
         "US-AL,US-AZ,US-CO,US-CT,US-GA,US-ID,US-IL,US-IN,US-IA,US-KS,US-KY,US-LA,US-ME,US-MD,US-MA,US-MS,US-MO,US-MT,US-NE,US-NH,US-NJ,US-NM,US-NY,US-NC,US-OH,US-OK,US-PA,US-RI,US-SC,US-TN,US-UT,US-VA,US-WV",
         null,
         [
          "Public"
         ],
         10,
         "Monday"
        ],
        [
         "2025-10-13",
         "Indigenous Peoples' Day",
         "Indigenous Peoples' Day",
         "US",
         false,
         false,
         "US-AK,US-AL,US-CA,US-HI,US-IA,US-LA,US-ME,US-MI,US-MN,US-NC,US-NE,US-NM,US-OK,US-OR,US-SD,US-TX,US-VA,US-VT,US-WI",
         null,
         [
          "Public"
         ],
         10,
         "Monday"
        ],
        [
         "2025-11-11",
         "Veterans Day",
         "Veterans Day",
         "US",
         false,
         true,
         "",
         null,
         [
          "Public"
         ],
         11,
         "Tuesday"
        ],
        [
         "2025-11-27",
         "Thanksgiving Day",
         "Thanksgiving Day",
         "US",
         false,
         true,
         "",
         null,
         [
          "Public"
         ],
         11,
         "Thursday"
        ],
        [
         "2025-12-25",
         "Christmas Day",
         "Christmas Day",
         "US",
         false,
         true,
         "",
         null,
         [
          "Public"
         ],
         12,
         "Thursday"
        ]
       ],
       "datasetInfos": [],
       "dbfsResultPath": null,
       "isJsonSchema": true,
       "metadata": {},
       "overflow": false,
       "plotOptions": {
        "customPlotOptions": {},
        "displayType": "table",
        "pivotAggregation": null,
        "pivotColumns": null,
        "xColumns": null,
        "yColumns": null
       },
       "removedWidgets": [],
       "schema": [
        {
         "metadata": "{}",
         "name": "date",
         "type": "\"date\""
        },
        {
         "metadata": "{}",
         "name": "localName",
         "type": "\"string\""
        },
        {
         "metadata": "{}",
         "name": "name",
         "type": "\"string\""
        },
        {
         "metadata": "{}",
         "name": "countryCode",
         "type": "\"string\""
        },
        {
         "metadata": "{}",
         "name": "fixed",
         "type": "\"boolean\""
        },
        {
         "metadata": "{}",
         "name": "global",
         "type": "\"boolean\""
        },
        {
         "metadata": "{}",
         "name": "counties",
         "type": "\"string\""
        },
        {
         "metadata": "{}",
         "name": "launchYear",
         "type": "\"double\""
        },
        {
         "metadata": "{}",
         "name": "types",
         "type": "{\"type\":\"array\",\"elementType\":\"string\",\"containsNull\":true}"
        },
        {
         "metadata": "{}",
         "name": "holiday_month",
         "type": "\"integer\""
        },
        {
         "metadata": "{}",
         "name": "weekday",
         "type": "\"string\""
        }
       ],
       "type": "table"
      }
     },
     "output_type": "display_data"
    }
   ],
   "source": [
    "display(source_json_file_sparks_df)"
   ]
  },
  {
   "cell_type": "code",
   "execution_count": null,
   "metadata": {
    "application/vnd.databricks.v1+cell": {
     "cellMetadata": {
      "byteLimit": 2048000,
      "rowLimit": 10000
     },
     "inputWidgets": {},
     "nuid": "930a0651-584f-4c7b-8584-bc4b09e8098c",
     "showTitle": false,
     "tableResultSettingsMap": {},
     "title": ""
    }
   },
   "outputs": [
    {
     "name": "stdout",
     "output_type": "stream",
     "text": [
      "+---------+----------------+\n",
      "|  weekday|count_of_holiday|\n",
      "+---------+----------------+\n",
      "|   Monday|               6|\n",
      "| Thursday|               4|\n",
      "|   Friday|               3|\n",
      "|Wednesday|               2|\n",
      "|  Tuesday|               1|\n",
      "+---------+----------------+\n",
      "\n"
     ]
    }
   ],
   "source": [
    "source_json_file_sparks_df.groupBy(\"weekday\").agg(count(\"*\").alias(\"count_of_holiday\")).orderBy(col(\"count_of_holiday\").desc()).show()"
   ]
  },
  {
   "cell_type": "code",
   "execution_count": null,
   "metadata": {
    "application/vnd.databricks.v1+cell": {
     "cellMetadata": {
      "byteLimit": 2048000,
      "rowLimit": 10000
     },
     "inputWidgets": {},
     "nuid": "ab9280f2-dbb7-4a16-8f9e-1dfef7825f9f",
     "showTitle": false,
     "tableResultSettingsMap": {
      "0": {
       "dataGridStateBlob": "{\"version\":1,\"tableState\":{\"columnPinning\":{\"left\":[\"#row_number#\"],\"right\":[]},\"columnSizing\":{},\"columnVisibility\":{}},\"settings\":{\"columns\":{}},\"syncTimestamp\":1754129190336}",
       "filterBlob": null,
       "queryPlanFiltersBlob": null,
       "tableResultIndex": 0
      }
     },
     "title": ""
    }
   },
   "outputs": [
    {
     "data": {
      "text/html": [
       "<style scoped>\n",
       "  .table-result-container {\n",
       "    max-height: 300px;\n",
       "    overflow: auto;\n",
       "  }\n",
       "  table, th, td {\n",
       "    border: 1px solid black;\n",
       "    border-collapse: collapse;\n",
       "  }\n",
       "  th, td {\n",
       "    padding: 5px;\n",
       "  }\n",
       "  th {\n",
       "    text-align: left;\n",
       "  }\n",
       "</style><div class='table-result-container'><table class='table-result'><thead style='background-color: white'><tr><th>date</th><th>localName</th><th>name</th><th>countryCode</th><th>fixed</th><th>global</th><th>counties</th><th>launchYear</th><th>types</th><th>holiday_month</th><th>weekday</th></tr></thead><tbody><tr><td>2025-01-01</td><td>New Year's Day</td><td>New Year's Day</td><td>US</td><td>false</td><td>true</td><td></td><td>null</td><td>List(Public)</td><td>1</td><td>Wednesday</td></tr><tr><td>2025-01-20</td><td>Martin Luther King, Jr. Day</td><td>Martin Luther King, Jr. Day</td><td>US</td><td>false</td><td>true</td><td></td><td>null</td><td>List(Public)</td><td>1</td><td>Monday</td></tr><tr><td>2025-02-12</td><td>Lincoln's Birthday</td><td>Lincoln's Birthday</td><td>US</td><td>false</td><td>false</td><td>US-CA,US-CT,US-IL,US-IN,US-KY,US-MI,US-NY,US-MO,US-OH</td><td>null</td><td>List(Observance)</td><td>2</td><td>Wednesday</td></tr><tr><td>2025-02-17</td><td>Washington's Birthday</td><td>Presidents Day</td><td>US</td><td>false</td><td>true</td><td></td><td>null</td><td>List(Public)</td><td>2</td><td>Monday</td></tr><tr><td>2025-04-18</td><td>Good Friday</td><td>Good Friday</td><td>US</td><td>false</td><td>false</td><td>US-CT,US-DE,US-HI,US-IN,US-KY,US-LA,US-NC,US-ND,US-NJ,US-TN</td><td>null</td><td>List(Public)</td><td>4</td><td>Friday</td></tr><tr><td>2025-04-18</td><td>Good Friday</td><td>Good Friday</td><td>US</td><td>false</td><td>false</td><td>US-TX</td><td>null</td><td>List(Optional)</td><td>4</td><td>Friday</td></tr><tr><td>2025-05-08</td><td>Truman Day</td><td>Truman Day</td><td>US</td><td>false</td><td>false</td><td>US-MO</td><td>null</td><td>List(School, Authorities)</td><td>5</td><td>Thursday</td></tr><tr><td>2025-05-26</td><td>Memorial Day</td><td>Memorial Day</td><td>US</td><td>false</td><td>true</td><td></td><td>null</td><td>List(Public)</td><td>5</td><td>Monday</td></tr><tr><td>2025-06-19</td><td>Juneteenth National Independence Day</td><td>Juneteenth National Independence Day</td><td>US</td><td>false</td><td>true</td><td></td><td>null</td><td>List(Public)</td><td>6</td><td>Thursday</td></tr><tr><td>2025-07-04</td><td>Independence Day</td><td>Independence Day</td><td>US</td><td>false</td><td>true</td><td></td><td>null</td><td>List(Public)</td><td>7</td><td>Friday</td></tr><tr><td>2025-09-01</td><td>Labour Day</td><td>Labor Day</td><td>US</td><td>false</td><td>true</td><td></td><td>null</td><td>List(Public)</td><td>9</td><td>Monday</td></tr><tr><td>2025-10-13</td><td>Columbus Day</td><td>Columbus Day</td><td>US</td><td>false</td><td>false</td><td>US-AL,US-AZ,US-CO,US-CT,US-GA,US-ID,US-IL,US-IN,US-IA,US-KS,US-KY,US-LA,US-ME,US-MD,US-MA,US-MS,US-MO,US-MT,US-NE,US-NH,US-NJ,US-NM,US-NY,US-NC,US-OH,US-OK,US-PA,US-RI,US-SC,US-TN,US-UT,US-VA,US-WV</td><td>null</td><td>List(Public)</td><td>10</td><td>Monday</td></tr><tr><td>2025-10-13</td><td>Indigenous Peoples' Day</td><td>Indigenous Peoples' Day</td><td>US</td><td>false</td><td>false</td><td>US-AK,US-AL,US-CA,US-HI,US-IA,US-LA,US-ME,US-MI,US-MN,US-NC,US-NE,US-NM,US-OK,US-OR,US-SD,US-TX,US-VA,US-VT,US-WI</td><td>null</td><td>List(Public)</td><td>10</td><td>Monday</td></tr><tr><td>2025-11-11</td><td>Veterans Day</td><td>Veterans Day</td><td>US</td><td>false</td><td>true</td><td></td><td>null</td><td>List(Public)</td><td>11</td><td>Tuesday</td></tr><tr><td>2025-11-27</td><td>Thanksgiving Day</td><td>Thanksgiving Day</td><td>US</td><td>false</td><td>true</td><td></td><td>null</td><td>List(Public)</td><td>11</td><td>Thursday</td></tr><tr><td>2025-12-25</td><td>Christmas Day</td><td>Christmas Day</td><td>US</td><td>false</td><td>true</td><td></td><td>null</td><td>List(Public)</td><td>12</td><td>Thursday</td></tr></tbody></table></div>"
      ]
     },
     "metadata": {
      "application/vnd.databricks.v1+output": {
       "addedWidgets": {},
       "aggData": [],
       "aggError": "",
       "aggOverflow": false,
       "aggSchema": [],
       "aggSeriesLimitReached": false,
       "aggType": "",
       "arguments": {},
       "columnCustomDisplayInfos": {},
       "data": [
        [
         "2025-01-01",
         "New Year's Day",
         "New Year's Day",
         "US",
         false,
         true,
         "",
         null,
         [
          "Public"
         ],
         1,
         "Wednesday"
        ],
        [
         "2025-01-20",
         "Martin Luther King, Jr. Day",
         "Martin Luther King, Jr. Day",
         "US",
         false,
         true,
         "",
         null,
         [
          "Public"
         ],
         1,
         "Monday"
        ],
        [
         "2025-02-12",
         "Lincoln's Birthday",
         "Lincoln's Birthday",
         "US",
         false,
         false,
         "US-CA,US-CT,US-IL,US-IN,US-KY,US-MI,US-NY,US-MO,US-OH",
         null,
         [
          "Observance"
         ],
         2,
         "Wednesday"
        ],
        [
         "2025-02-17",
         "Washington's Birthday",
         "Presidents Day",
         "US",
         false,
         true,
         "",
         null,
         [
          "Public"
         ],
         2,
         "Monday"
        ],
        [
         "2025-04-18",
         "Good Friday",
         "Good Friday",
         "US",
         false,
         false,
         "US-CT,US-DE,US-HI,US-IN,US-KY,US-LA,US-NC,US-ND,US-NJ,US-TN",
         null,
         [
          "Public"
         ],
         4,
         "Friday"
        ],
        [
         "2025-04-18",
         "Good Friday",
         "Good Friday",
         "US",
         false,
         false,
         "US-TX",
         null,
         [
          "Optional"
         ],
         4,
         "Friday"
        ],
        [
         "2025-05-08",
         "Truman Day",
         "Truman Day",
         "US",
         false,
         false,
         "US-MO",
         null,
         [
          "School",
          "Authorities"
         ],
         5,
         "Thursday"
        ],
        [
         "2025-05-26",
         "Memorial Day",
         "Memorial Day",
         "US",
         false,
         true,
         "",
         null,
         [
          "Public"
         ],
         5,
         "Monday"
        ],
        [
         "2025-06-19",
         "Juneteenth National Independence Day",
         "Juneteenth National Independence Day",
         "US",
         false,
         true,
         "",
         null,
         [
          "Public"
         ],
         6,
         "Thursday"
        ],
        [
         "2025-07-04",
         "Independence Day",
         "Independence Day",
         "US",
         false,
         true,
         "",
         null,
         [
          "Public"
         ],
         7,
         "Friday"
        ],
        [
         "2025-09-01",
         "Labour Day",
         "Labor Day",
         "US",
         false,
         true,
         "",
         null,
         [
          "Public"
         ],
         9,
         "Monday"
        ],
        [
         "2025-10-13",
         "Columbus Day",
         "Columbus Day",
         "US",
         false,
         false,
         "US-AL,US-AZ,US-CO,US-CT,US-GA,US-ID,US-IL,US-IN,US-IA,US-KS,US-KY,US-LA,US-ME,US-MD,US-MA,US-MS,US-MO,US-MT,US-NE,US-NH,US-NJ,US-NM,US-NY,US-NC,US-OH,US-OK,US-PA,US-RI,US-SC,US-TN,US-UT,US-VA,US-WV",
         null,
         [
          "Public"
         ],
         10,
         "Monday"
        ],
        [
         "2025-10-13",
         "Indigenous Peoples' Day",
         "Indigenous Peoples' Day",
         "US",
         false,
         false,
         "US-AK,US-AL,US-CA,US-HI,US-IA,US-LA,US-ME,US-MI,US-MN,US-NC,US-NE,US-NM,US-OK,US-OR,US-SD,US-TX,US-VA,US-VT,US-WI",
         null,
         [
          "Public"
         ],
         10,
         "Monday"
        ],
        [
         "2025-11-11",
         "Veterans Day",
         "Veterans Day",
         "US",
         false,
         true,
         "",
         null,
         [
          "Public"
         ],
         11,
         "Tuesday"
        ],
        [
         "2025-11-27",
         "Thanksgiving Day",
         "Thanksgiving Day",
         "US",
         false,
         true,
         "",
         null,
         [
          "Public"
         ],
         11,
         "Thursday"
        ],
        [
         "2025-12-25",
         "Christmas Day",
         "Christmas Day",
         "US",
         false,
         true,
         "",
         null,
         [
          "Public"
         ],
         12,
         "Thursday"
        ]
       ],
       "datasetInfos": [],
       "dbfsResultPath": null,
       "isJsonSchema": true,
       "metadata": {},
       "overflow": false,
       "plotOptions": {
        "customPlotOptions": {},
        "displayType": "table",
        "pivotAggregation": null,
        "pivotColumns": null,
        "xColumns": null,
        "yColumns": null
       },
       "removedWidgets": [],
       "schema": [
        {
         "metadata": "{}",
         "name": "date",
         "type": "\"date\""
        },
        {
         "metadata": "{}",
         "name": "localName",
         "type": "\"string\""
        },
        {
         "metadata": "{}",
         "name": "name",
         "type": "\"string\""
        },
        {
         "metadata": "{}",
         "name": "countryCode",
         "type": "\"string\""
        },
        {
         "metadata": "{}",
         "name": "fixed",
         "type": "\"boolean\""
        },
        {
         "metadata": "{}",
         "name": "global",
         "type": "\"boolean\""
        },
        {
         "metadata": "{}",
         "name": "counties",
         "type": "\"string\""
        },
        {
         "metadata": "{}",
         "name": "launchYear",
         "type": "\"double\""
        },
        {
         "metadata": "{}",
         "name": "types",
         "type": "{\"type\":\"array\",\"elementType\":\"string\",\"containsNull\":true}"
        },
        {
         "metadata": "{}",
         "name": "holiday_month",
         "type": "\"integer\""
        },
        {
         "metadata": "{}",
         "name": "weekday",
         "type": "\"string\""
        }
       ],
       "type": "table"
      }
     },
     "output_type": "display_data"
    }
   ],
   "source": [
    "display(source_json_file_sparks_df)"
   ]
  },
  {
   "cell_type": "code",
   "execution_count": null,
   "metadata": {
    "application/vnd.databricks.v1+cell": {
     "cellMetadata": {
      "byteLimit": 2048000,
      "rowLimit": 10000
     },
     "inputWidgets": {},
     "nuid": "1e97ccf4-cd41-4a6a-ac6f-06bb4318bca7",
     "showTitle": false,
     "tableResultSettingsMap": {},
     "title": ""
    }
   },
   "outputs": [
    {
     "data": {
      "text/html": [
       "<style scoped>\n",
       "  .table-result-container {\n",
       "    max-height: 300px;\n",
       "    overflow: auto;\n",
       "  }\n",
       "  table, th, td {\n",
       "    border: 1px solid black;\n",
       "    border-collapse: collapse;\n",
       "  }\n",
       "  th, td {\n",
       "    padding: 5px;\n",
       "  }\n",
       "  th {\n",
       "    text-align: left;\n",
       "  }\n",
       "</style><div class='table-result-container'><table class='table-result'><thead style='background-color: white'><tr><th>holiday_month</th><th>count_of_holidays</th></tr></thead><tbody></tbody></table></div>"
      ]
     },
     "metadata": {
      "application/vnd.databricks.v1+output": {
       "addedWidgets": {},
       "aggData": [],
       "aggError": "",
       "aggOverflow": false,
       "aggSchema": [],
       "aggSeriesLimitReached": false,
       "aggType": "",
       "arguments": {},
       "columnCustomDisplayInfos": {},
       "data": [],
       "datasetInfos": [],
       "dbfsResultPath": null,
       "isJsonSchema": true,
       "metadata": {},
       "overflow": false,
       "plotOptions": {
        "customPlotOptions": {},
        "displayType": "table",
        "pivotAggregation": null,
        "pivotColumns": null,
        "xColumns": null,
        "yColumns": null
       },
       "removedWidgets": [],
       "schema": [
        {
         "metadata": "{}",
         "name": "holiday_month",
         "type": "\"integer\""
        },
        {
         "metadata": "{}",
         "name": "count_of_holidays",
         "type": "\"long\""
        }
       ],
       "type": "table"
      }
     },
     "output_type": "display_data"
    }
   ],
   "source": [
    "month_holiday = source_json_file_sparks_df.groupBy(\"holiday_month\").agg(count(\"*\").alias(\"count_of_holidays\")).filter(col(\"count_of_holidays\")>2).orderBy(\"holiday_month\")\n",
    "display(month_holiday)\n"
   ]
  },
  {
   "cell_type": "code",
   "execution_count": null,
   "metadata": {
    "application/vnd.databricks.v1+cell": {
     "cellMetadata": {
      "byteLimit": 2048000,
      "rowLimit": 10000
     },
     "inputWidgets": {},
     "nuid": "c46fcdef-7b06-4c4f-b23f-3e3f125450e1",
     "showTitle": false,
     "tableResultSettingsMap": {},
     "title": ""
    }
   },
   "outputs": [],
   "source": [
    "source_json_file_sparks_df.write.mode(\"overwrite\").json(\"abfss://assignment-container@dmodemoaccount123.dfs.core.windows.net/bronze_assignment/public_holidays/json\")\n",
    "source_json_file_sparks_df.write.mode(\"overwrite\").parquet(\"abfss://assignment-container@dmodemoaccount123.dfs.core.windows.net/bronze_assignment/public_holidays/parquet\")"
   ]
  }
 ],
 "metadata": {
  "application/vnd.databricks.v1+notebook": {
   "computePreferences": null,
   "dashboards": [],
   "environmentMetadata": {
    "base_environment": "",
    "environment_version": "2"
   },
   "inputWidgetPreferences": null,
   "language": "python",
   "notebookMetadata": {
    "pythonIndentUnit": 4
   },
   "notebookName": "sheriff-assignment-on-azure-databricks-2025-08-02 11:57:32",
   "widgets": {}
  },
  "language_info": {
   "name": "python"
  }
 },
 "nbformat": 4,
 "nbformat_minor": 0
}
